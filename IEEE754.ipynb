{
  "nbformat": 4,
  "nbformat_minor": 0,
  "metadata": {
    "colab": {
      "provenance": [],
      "authorship_tag": "ABX9TyPn16eMZOv/js+OXSkIHr/n",
      "include_colab_link": true
    },
    "kernelspec": {
      "name": "python3",
      "display_name": "Python 3"
    },
    "language_info": {
      "name": "python"
    }
  },
  "cells": [
    {
      "cell_type": "markdown",
      "metadata": {
        "id": "view-in-github",
        "colab_type": "text"
      },
      "source": [
        "<a href=\"https://colab.research.google.com/github/CeSaRLoPeZArTeAgA/Modelamiento_UNI/blob/main/IEEE754.ipynb\" target=\"_parent\"><img src=\"https://colab.research.google.com/assets/colab-badge.svg\" alt=\"Open In Colab\"/></a>"
      ]
    },
    {
      "cell_type": "markdown",
      "source": [
        "# MODELAMIENTO NUMERICO - UNI\n",
        "\n",
        ">>>> **Representacion IEEE - 754**\n",
        "\n",
        ">>>>>![UNI.jpg](data:image/jpeg;base64,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)\n"
      ],
      "metadata": {
        "id": "BfJVCvu3KQk4"
      }
    },
    {
      "cell_type": "markdown",
      "source": [
        "Ejemplo 1: Pasar el numero -31.125 a representacion IEEE-754\n",
        "\n",
        "Donde:\n",
        "* s=1(-)\n",
        "* s=0(+)\n",
        "\n",
        "\n",
        "\n"
      ],
      "metadata": {
        "id": "PvK-uhdJI9-A"
      }
    },
    {
      "cell_type": "code",
      "execution_count": null,
      "metadata": {
        "id": "a7hPuXpAIyfu"
      },
      "outputs": [],
      "source": [
        "import math\n",
        "def CamBase10a2_Alg1(num):\n",
        "  a=[]\n",
        "  while True:\n",
        "    r=num%2\n",
        "    a.append(r)\n",
        "    q=(num-r)//2\n",
        "    if(q==0):\n",
        "      cond=False\n",
        "      return list(reversed(a))\n",
        "    num=q"
      ]
    },
    {
      "cell_type": "markdown",
      "source": [],
      "metadata": {
        "id": "g5KH54r_9gqx"
      }
    },
    {
      "cell_type": "code",
      "source": [
        "CamBase10a2_Alg1(31)"
      ],
      "metadata": {
        "colab": {
          "base_uri": "https://localhost:8080/"
        },
        "id": "mqjQshy5I9qQ",
        "outputId": "26ac8d5f-b484-4618-c9a9-d9310d91116a"
      },
      "execution_count": null,
      "outputs": [
        {
          "output_type": "execute_result",
          "data": {
            "text/plain": [
              "[1, 1, 1, 1, 1]"
            ]
          },
          "metadata": {},
          "execution_count": 2
        }
      ]
    }
  ]
}